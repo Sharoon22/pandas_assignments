{
 "cells": [
  {
   "cell_type": "code",
   "execution_count": 3,
   "id": "00e23e14-0b69-458f-a755-ad5514f0f417",
   "metadata": {},
   "outputs": [],
   "source": [
    "import pandas as pd"
   ]
  },
  {
   "cell_type": "code",
   "execution_count": 9,
   "id": "caf47981-6859-4de4-8695-44551f5da6f2",
   "metadata": {},
   "outputs": [],
   "source": [
    "ab=pd.read_csv('pandas_docs/survey_results_public.csv')"
   ]
  },
  {
   "cell_type": "markdown",
   "id": "2e000c0c-ab8e-4c6e-841b-5045fccae7e5",
   "metadata": {},
   "source": [
    "### 1.SAARC members are there in the dataset"
   ]
  },
  {
   "cell_type": "code",
   "execution_count": 11,
   "id": "c1b7fe66-6a8a-41ab-a8dd-4539c42627cd",
   "metadata": {},
   "outputs": [],
   "source": [
    "a=['Sri Lanka','Pakistan','Nepal','Maldives','India','Bhutan','Bangladesh','Afghanistan']"
   ]
  },
  {
   "cell_type": "code",
   "execution_count": 17,
   "id": "1084da67-d998-411b-a288-6bcc217a2308",
   "metadata": {},
   "outputs": [
    {
     "data": {
      "text/plain": [
       "7             India\n",
       "9             India\n",
       "14            India\n",
       "33        Sri Lanka\n",
       "41       Bangladesh\n",
       "            ...    \n",
       "88834    Bangladesh\n",
       "88852         India\n",
       "88853         India\n",
       "88864         India\n",
       "88875      Pakistan\n",
       "Name: Country, Length: 11257, dtype: object"
      ]
     },
     "execution_count": 17,
     "metadata": {},
     "output_type": "execute_result"
    }
   ],
   "source": [
    "b=ab.loc[ab['Country'].isin(a),'Country']\n",
    "b"
   ]
  },
  {
   "cell_type": "code",
   "execution_count": 41,
   "id": "a68483c1-eb19-497c-be8a-b7e1983439a6",
   "metadata": {},
   "outputs": [
    {
     "data": {
      "text/plain": [
       "array(['India', 'Sri Lanka', 'Bangladesh', 'Pakistan', 'Nepal',\n",
       "       'Afghanistan', 'Maldives', 'Bhutan'], dtype=object)"
      ]
     },
     "execution_count": 41,
     "metadata": {},
     "output_type": "execute_result"
    }
   ],
   "source": [
    "b.unique()"
   ]
  },
  {
   "cell_type": "markdown",
   "id": "6695698a-e936-4953-b1f1-effd4ccad25a",
   "metadata": {},
   "source": [
    "### 2.OPEC 5 members in the dataset"
   ]
  },
  {
   "cell_type": "code",
   "execution_count": 21,
   "id": "3b64d55c-5561-4819-b1bc-0844eb3587f9",
   "metadata": {},
   "outputs": [],
   "source": [
    "c=['Saudi Arabia','Nigeria','United Arab Emarites','Iraq','Iran']"
   ]
  },
  {
   "cell_type": "code",
   "execution_count": 23,
   "id": "5acd43d2-6e19-45d1-82de-15d1345f9e27",
   "metadata": {},
   "outputs": [
    {
     "data": {
      "text/plain": [
       "161              Iran\n",
       "203           Nigeria\n",
       "346           Nigeria\n",
       "363           Nigeria\n",
       "443              Iran\n",
       "             ...     \n",
       "88672            Iraq\n",
       "88700    Saudi Arabia\n",
       "88807         Nigeria\n",
       "88823         Nigeria\n",
       "88867         Nigeria\n",
       "Name: Country, Length: 1397, dtype: object"
      ]
     },
     "execution_count": 23,
     "metadata": {},
     "output_type": "execute_result"
    }
   ],
   "source": [
    "d=ab.loc[ab['Country'].isin(c),'Country']\n",
    "d"
   ]
  },
  {
   "cell_type": "code",
   "execution_count": 25,
   "id": "0837ed9b-d5b6-41c4-a1b9-36c92ee356f9",
   "metadata": {},
   "outputs": [
    {
     "data": {
      "text/plain": [
       "array(['Iran', 'Nigeria', 'Saudi Arabia', 'Iraq'], dtype=object)"
      ]
     },
     "execution_count": 25,
     "metadata": {},
     "output_type": "execute_result"
    }
   ],
   "source": [
    "d.unique()"
   ]
  },
  {
   "cell_type": "code",
   "execution_count": 31,
   "id": "1a110bd6-55ea-40e4-836e-42926720664f",
   "metadata": {},
   "outputs": [
    {
     "name": "stdout",
     "output_type": "stream",
     "text": [
      "False\n"
     ]
    }
   ],
   "source": [
    "\n",
    "print( not 2 < 4)\n"
   ]
  },
  {
   "cell_type": "code",
   "execution_count": 33,
   "id": "089489b5-f4c2-4c85-a135-888445c75ba3",
   "metadata": {},
   "outputs": [
    {
     "name": "stdout",
     "output_type": "stream",
     "text": [
      "False\n"
     ]
    }
   ],
   "source": [
    "print( not 2 < 4)\n"
   ]
  },
  {
   "cell_type": "code",
   "execution_count": 35,
   "id": "a1f18d3d-2520-4e3f-bfc1-1da565f353a2",
   "metadata": {},
   "outputs": [
    {
     "name": "stdout",
     "output_type": "stream",
     "text": [
      "1\n"
     ]
    }
   ],
   "source": [
    "print(0 or 1)"
   ]
  },
  {
   "cell_type": "code",
   "execution_count": 39,
   "id": "6491db33-5ade-438b-9bde-0a2b3566aafd",
   "metadata": {},
   "outputs": [
    {
     "name": "stdout",
     "output_type": "stream",
     "text": [
      "0\n",
      "1\n",
      "2\n",
      "3\n",
      "4\n",
      "5\n",
      "6\n",
      "7\n",
      "8\n",
      "9\n",
      "10\n",
      "11\n",
      "12\n",
      "13\n",
      "14\n",
      "15\n",
      "16\n",
      "17\n",
      "18\n",
      "19\n"
     ]
    }
   ],
   "source": [
    "i=0\n",
    "while i < 20:\n",
    "  print(i)\n",
    "  i += 1"
   ]
  },
  {
   "cell_type": "code",
   "execution_count": null,
   "id": "24687b1a-32fd-40b8-8dc0-1baa625535e9",
   "metadata": {},
   "outputs": [],
   "source": []
  }
 ],
 "metadata": {
  "kernelspec": {
   "display_name": "Python 3 (ipykernel)",
   "language": "python",
   "name": "python3"
  },
  "language_info": {
   "codemirror_mode": {
    "name": "ipython",
    "version": 3
   },
   "file_extension": ".py",
   "mimetype": "text/x-python",
   "name": "python",
   "nbconvert_exporter": "python",
   "pygments_lexer": "ipython3",
   "version": "3.12.4"
  }
 },
 "nbformat": 4,
 "nbformat_minor": 5
}
