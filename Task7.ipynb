{
 "cells": [
  {
   "cell_type": "code",
   "execution_count": 6,
   "id": "1b5759c8-6231-4f2a-9a84-b768d20dda1f",
   "metadata": {},
   "outputs": [],
   "source": [
    "import pandas as pd"
   ]
  },
  {
   "cell_type": "markdown",
   "id": "4603657c-c058-4d08-8c00-eaaa83dd17de",
   "metadata": {},
   "source": [
    "## 1- Group the cereals, using the Manufacturer column's values."
   ]
  },
  {
   "cell_type": "code",
   "execution_count": 22,
   "id": "76d1c9d8-3853-4ed3-8c23-c4c3a36684e3",
   "metadata": {},
   "outputs": [
    {
     "data": {
      "text/html": [
       "<div>\n",
       "<style scoped>\n",
       "    .dataframe tbody tr th:only-of-type {\n",
       "        vertical-align: middle;\n",
       "    }\n",
       "\n",
       "    .dataframe tbody tr th {\n",
       "        vertical-align: top;\n",
       "    }\n",
       "\n",
       "    .dataframe thead th {\n",
       "        text-align: right;\n",
       "    }\n",
       "</style>\n",
       "<table border=\"1\" class=\"dataframe\">\n",
       "  <thead>\n",
       "    <tr style=\"text-align: right;\">\n",
       "      <th></th>\n",
       "      <th>Name</th>\n",
       "      <th>Manufacturer</th>\n",
       "      <th>Type</th>\n",
       "      <th>Calories</th>\n",
       "      <th>Fiber</th>\n",
       "      <th>Sugars</th>\n",
       "    </tr>\n",
       "  </thead>\n",
       "  <tbody>\n",
       "    <tr>\n",
       "      <th>0</th>\n",
       "      <td>100% Bran</td>\n",
       "      <td>Nabisco</td>\n",
       "      <td>Cold</td>\n",
       "      <td>70</td>\n",
       "      <td>10.0</td>\n",
       "      <td>6</td>\n",
       "    </tr>\n",
       "    <tr>\n",
       "      <th>1</th>\n",
       "      <td>100% Natural Bran</td>\n",
       "      <td>Quaker Oats</td>\n",
       "      <td>Cold</td>\n",
       "      <td>120</td>\n",
       "      <td>2.0</td>\n",
       "      <td>8</td>\n",
       "    </tr>\n",
       "    <tr>\n",
       "      <th>2</th>\n",
       "      <td>All-Bran</td>\n",
       "      <td>Kellogg's</td>\n",
       "      <td>Cold</td>\n",
       "      <td>70</td>\n",
       "      <td>9.0</td>\n",
       "      <td>5</td>\n",
       "    </tr>\n",
       "    <tr>\n",
       "      <th>3</th>\n",
       "      <td>All-Bran with Extra Fiber</td>\n",
       "      <td>Kellogg's</td>\n",
       "      <td>Cold</td>\n",
       "      <td>50</td>\n",
       "      <td>14.0</td>\n",
       "      <td>0</td>\n",
       "    </tr>\n",
       "    <tr>\n",
       "      <th>4</th>\n",
       "      <td>Almond Delight</td>\n",
       "      <td>Ralston Purina</td>\n",
       "      <td>Cold</td>\n",
       "      <td>110</td>\n",
       "      <td>1.0</td>\n",
       "      <td>8</td>\n",
       "    </tr>\n",
       "    <tr>\n",
       "      <th>...</th>\n",
       "      <td>...</td>\n",
       "      <td>...</td>\n",
       "      <td>...</td>\n",
       "      <td>...</td>\n",
       "      <td>...</td>\n",
       "      <td>...</td>\n",
       "    </tr>\n",
       "    <tr>\n",
       "      <th>72</th>\n",
       "      <td>Triples</td>\n",
       "      <td>General Mills</td>\n",
       "      <td>Cold</td>\n",
       "      <td>110</td>\n",
       "      <td>0.0</td>\n",
       "      <td>3</td>\n",
       "    </tr>\n",
       "    <tr>\n",
       "      <th>73</th>\n",
       "      <td>Trix</td>\n",
       "      <td>General Mills</td>\n",
       "      <td>Cold</td>\n",
       "      <td>110</td>\n",
       "      <td>0.0</td>\n",
       "      <td>12</td>\n",
       "    </tr>\n",
       "    <tr>\n",
       "      <th>74</th>\n",
       "      <td>Wheat Chex</td>\n",
       "      <td>Ralston Purina</td>\n",
       "      <td>Cold</td>\n",
       "      <td>100</td>\n",
       "      <td>3.0</td>\n",
       "      <td>3</td>\n",
       "    </tr>\n",
       "    <tr>\n",
       "      <th>75</th>\n",
       "      <td>Wheaties</td>\n",
       "      <td>General Mills</td>\n",
       "      <td>Cold</td>\n",
       "      <td>100</td>\n",
       "      <td>3.0</td>\n",
       "      <td>3</td>\n",
       "    </tr>\n",
       "    <tr>\n",
       "      <th>76</th>\n",
       "      <td>Wheaties Honey Gold</td>\n",
       "      <td>General Mills</td>\n",
       "      <td>Cold</td>\n",
       "      <td>110</td>\n",
       "      <td>1.0</td>\n",
       "      <td>8</td>\n",
       "    </tr>\n",
       "  </tbody>\n",
       "</table>\n",
       "<p>77 rows × 6 columns</p>\n",
       "</div>"
      ],
      "text/plain": [
       "                         Name    Manufacturer  Type  Calories  Fiber  Sugars\n",
       "0                   100% Bran         Nabisco  Cold        70   10.0       6\n",
       "1           100% Natural Bran     Quaker Oats  Cold       120    2.0       8\n",
       "2                    All-Bran       Kellogg's  Cold        70    9.0       5\n",
       "3   All-Bran with Extra Fiber       Kellogg's  Cold        50   14.0       0\n",
       "4              Almond Delight  Ralston Purina  Cold       110    1.0       8\n",
       "..                        ...             ...   ...       ...    ...     ...\n",
       "72                    Triples   General Mills  Cold       110    0.0       3\n",
       "73                       Trix   General Mills  Cold       110    0.0      12\n",
       "74                 Wheat Chex  Ralston Purina  Cold       100    3.0       3\n",
       "75                   Wheaties   General Mills  Cold       100    3.0       3\n",
       "76        Wheaties Honey Gold   General Mills  Cold       110    1.0       8\n",
       "\n",
       "[77 rows x 6 columns]"
      ]
     },
     "execution_count": 22,
     "metadata": {},
     "output_type": "execute_result"
    }
   ],
   "source": [
    "cereals=pd.read_csv('/Users/sharoonkk/Desktop/DA/PANDAS/cereals.xls')\n",
    "cereals"
   ]
  },
  {
   "cell_type": "code",
   "execution_count": 246,
   "id": "00d9dc1b-4323-4f46-9349-bb2d19500b7f",
   "metadata": {},
   "outputs": [],
   "source": [
    "cere=cereals.groupby('Manufacturer')"
   ]
  },
  {
   "cell_type": "code",
   "execution_count": 248,
   "id": "6a75b7a7-1841-4513-95d6-423598c51762",
   "metadata": {},
   "outputs": [
    {
     "data": {
      "text/html": [
       "<div>\n",
       "<style scoped>\n",
       "    .dataframe tbody tr th:only-of-type {\n",
       "        vertical-align: middle;\n",
       "    }\n",
       "\n",
       "    .dataframe tbody tr th {\n",
       "        vertical-align: top;\n",
       "    }\n",
       "\n",
       "    .dataframe thead th {\n",
       "        text-align: right;\n",
       "    }\n",
       "</style>\n",
       "<table border=\"1\" class=\"dataframe\">\n",
       "  <thead>\n",
       "    <tr style=\"text-align: right;\">\n",
       "      <th></th>\n",
       "      <th>Name</th>\n",
       "      <th>Manufacturer</th>\n",
       "      <th>Type</th>\n",
       "      <th>Calories</th>\n",
       "      <th>Fiber</th>\n",
       "      <th>Sugars</th>\n",
       "    </tr>\n",
       "  </thead>\n",
       "  <tbody>\n",
       "    <tr>\n",
       "      <th>0</th>\n",
       "      <td>100% Bran</td>\n",
       "      <td>Nabisco</td>\n",
       "      <td>Cold</td>\n",
       "      <td>70</td>\n",
       "      <td>10.0</td>\n",
       "      <td>6</td>\n",
       "    </tr>\n",
       "    <tr>\n",
       "      <th>20</th>\n",
       "      <td>Cream of Wheat (Quick)</td>\n",
       "      <td>Nabisco</td>\n",
       "      <td>Hot</td>\n",
       "      <td>100</td>\n",
       "      <td>1.0</td>\n",
       "      <td>0</td>\n",
       "    </tr>\n",
       "    <tr>\n",
       "      <th>63</th>\n",
       "      <td>Shredded Wheat</td>\n",
       "      <td>Nabisco</td>\n",
       "      <td>Cold</td>\n",
       "      <td>80</td>\n",
       "      <td>3.0</td>\n",
       "      <td>0</td>\n",
       "    </tr>\n",
       "    <tr>\n",
       "      <th>64</th>\n",
       "      <td>Shredded Wheat 'n'Bran</td>\n",
       "      <td>Nabisco</td>\n",
       "      <td>Cold</td>\n",
       "      <td>90</td>\n",
       "      <td>4.0</td>\n",
       "      <td>0</td>\n",
       "    </tr>\n",
       "    <tr>\n",
       "      <th>65</th>\n",
       "      <td>Shredded Wheat spoon size</td>\n",
       "      <td>Nabisco</td>\n",
       "      <td>Cold</td>\n",
       "      <td>90</td>\n",
       "      <td>3.0</td>\n",
       "      <td>0</td>\n",
       "    </tr>\n",
       "    <tr>\n",
       "      <th>68</th>\n",
       "      <td>Strawberry Fruit Wheats</td>\n",
       "      <td>Nabisco</td>\n",
       "      <td>Cold</td>\n",
       "      <td>90</td>\n",
       "      <td>3.0</td>\n",
       "      <td>5</td>\n",
       "    </tr>\n",
       "  </tbody>\n",
       "</table>\n",
       "</div>"
      ],
      "text/plain": [
       "                         Name Manufacturer  Type  Calories  Fiber  Sugars\n",
       "0                   100% Bran      Nabisco  Cold        70   10.0       6\n",
       "20     Cream of Wheat (Quick)      Nabisco   Hot       100    1.0       0\n",
       "63             Shredded Wheat      Nabisco  Cold        80    3.0       0\n",
       "64     Shredded Wheat 'n'Bran      Nabisco  Cold        90    4.0       0\n",
       "65  Shredded Wheat spoon size      Nabisco  Cold        90    3.0       0\n",
       "68    Strawberry Fruit Wheats      Nabisco  Cold        90    3.0       5"
      ]
     },
     "execution_count": 248,
     "metadata": {},
     "output_type": "execute_result"
    }
   ],
   "source": [
    "cere.get_group('Nabisco')"
   ]
  },
  {
   "cell_type": "markdown",
   "id": "1884029e-111d-49bf-851c-84994614662e",
   "metadata": {},
   "source": [
    "## 2- Determine the total number of groups, and the number of cereals per group."
   ]
  },
  {
   "cell_type": "markdown",
   "id": "07afde00-de0d-40e3-96a0-1442af9adac3",
   "metadata": {},
   "source": [
    "## 3- Extract the cereals that belong to the manufacturer/group \"Nabisco\"."
   ]
  },
  {
   "cell_type": "code",
   "execution_count": 326,
   "id": "c194cb33-b6b2-447a-8de2-becd8f450154",
   "metadata": {},
   "outputs": [
    {
     "data": {
      "text/html": [
       "<div>\n",
       "<style scoped>\n",
       "    .dataframe tbody tr th:only-of-type {\n",
       "        vertical-align: middle;\n",
       "    }\n",
       "\n",
       "    .dataframe tbody tr th {\n",
       "        vertical-align: top;\n",
       "    }\n",
       "\n",
       "    .dataframe thead th {\n",
       "        text-align: right;\n",
       "    }\n",
       "</style>\n",
       "<table border=\"1\" class=\"dataframe\">\n",
       "  <thead>\n",
       "    <tr style=\"text-align: right;\">\n",
       "      <th></th>\n",
       "      <th>Name</th>\n",
       "      <th>Manufacturer</th>\n",
       "      <th>Type</th>\n",
       "      <th>Calories</th>\n",
       "      <th>Fiber</th>\n",
       "      <th>Sugars</th>\n",
       "    </tr>\n",
       "  </thead>\n",
       "  <tbody>\n",
       "    <tr>\n",
       "      <th>0</th>\n",
       "      <td>100% Bran</td>\n",
       "      <td>Nabisco</td>\n",
       "      <td>Cold</td>\n",
       "      <td>70</td>\n",
       "      <td>10.0</td>\n",
       "      <td>6</td>\n",
       "    </tr>\n",
       "    <tr>\n",
       "      <th>20</th>\n",
       "      <td>Cream of Wheat (Quick)</td>\n",
       "      <td>Nabisco</td>\n",
       "      <td>Hot</td>\n",
       "      <td>100</td>\n",
       "      <td>1.0</td>\n",
       "      <td>0</td>\n",
       "    </tr>\n",
       "    <tr>\n",
       "      <th>63</th>\n",
       "      <td>Shredded Wheat</td>\n",
       "      <td>Nabisco</td>\n",
       "      <td>Cold</td>\n",
       "      <td>80</td>\n",
       "      <td>3.0</td>\n",
       "      <td>0</td>\n",
       "    </tr>\n",
       "    <tr>\n",
       "      <th>64</th>\n",
       "      <td>Shredded Wheat 'n'Bran</td>\n",
       "      <td>Nabisco</td>\n",
       "      <td>Cold</td>\n",
       "      <td>90</td>\n",
       "      <td>4.0</td>\n",
       "      <td>0</td>\n",
       "    </tr>\n",
       "    <tr>\n",
       "      <th>65</th>\n",
       "      <td>Shredded Wheat spoon size</td>\n",
       "      <td>Nabisco</td>\n",
       "      <td>Cold</td>\n",
       "      <td>90</td>\n",
       "      <td>3.0</td>\n",
       "      <td>0</td>\n",
       "    </tr>\n",
       "    <tr>\n",
       "      <th>68</th>\n",
       "      <td>Strawberry Fruit Wheats</td>\n",
       "      <td>Nabisco</td>\n",
       "      <td>Cold</td>\n",
       "      <td>90</td>\n",
       "      <td>3.0</td>\n",
       "      <td>5</td>\n",
       "    </tr>\n",
       "  </tbody>\n",
       "</table>\n",
       "</div>"
      ],
      "text/plain": [
       "                         Name Manufacturer  Type  Calories  Fiber  Sugars\n",
       "0                   100% Bran      Nabisco  Cold        70   10.0       6\n",
       "20     Cream of Wheat (Quick)      Nabisco   Hot       100    1.0       0\n",
       "63             Shredded Wheat      Nabisco  Cold        80    3.0       0\n",
       "64     Shredded Wheat 'n'Bran      Nabisco  Cold        90    4.0       0\n",
       "65  Shredded Wheat spoon size      Nabisco  Cold        90    3.0       0\n",
       "68    Strawberry Fruit Wheats      Nabisco  Cold        90    3.0       5"
      ]
     },
     "execution_count": 326,
     "metadata": {},
     "output_type": "execute_result"
    }
   ],
   "source": [
    "cere.get_group('Nabisco')"
   ]
  },
  {
   "cell_type": "markdown",
   "id": "a43fd8d3-839a-497a-99df-29049ad17bf1",
   "metadata": {},
   "source": [
    "## 4- Calculate the average of values in the Calories, Fiber, and Sugars columns for each manufacturer."
   ]
  },
  {
   "cell_type": "code",
   "execution_count": 350,
   "id": "30c14d2a-df1b-48d7-9795-a9503ae35e7c",
   "metadata": {},
   "outputs": [
    {
     "data": {
      "text/html": [
       "<div>\n",
       "<style scoped>\n",
       "    .dataframe tbody tr th:only-of-type {\n",
       "        vertical-align: middle;\n",
       "    }\n",
       "\n",
       "    .dataframe tbody tr th {\n",
       "        vertical-align: top;\n",
       "    }\n",
       "\n",
       "    .dataframe thead th {\n",
       "        text-align: right;\n",
       "    }\n",
       "</style>\n",
       "<table border=\"1\" class=\"dataframe\">\n",
       "  <thead>\n",
       "    <tr style=\"text-align: right;\">\n",
       "      <th></th>\n",
       "      <th>Calories</th>\n",
       "      <th>Fiber</th>\n",
       "      <th>Sugars</th>\n",
       "    </tr>\n",
       "    <tr>\n",
       "      <th>Manufacturer</th>\n",
       "      <th></th>\n",
       "      <th></th>\n",
       "      <th></th>\n",
       "    </tr>\n",
       "  </thead>\n",
       "  <tbody>\n",
       "    <tr>\n",
       "      <th>American Home Food Products</th>\n",
       "      <td>100.000000</td>\n",
       "      <td>0.000000</td>\n",
       "      <td>3.000000</td>\n",
       "    </tr>\n",
       "    <tr>\n",
       "      <th>General Mills</th>\n",
       "      <td>111.363636</td>\n",
       "      <td>1.272727</td>\n",
       "      <td>7.954545</td>\n",
       "    </tr>\n",
       "    <tr>\n",
       "      <th>Kellogg's</th>\n",
       "      <td>108.695652</td>\n",
       "      <td>2.739130</td>\n",
       "      <td>7.565217</td>\n",
       "    </tr>\n",
       "    <tr>\n",
       "      <th>Nabisco</th>\n",
       "      <td>86.666667</td>\n",
       "      <td>4.000000</td>\n",
       "      <td>1.833333</td>\n",
       "    </tr>\n",
       "    <tr>\n",
       "      <th>Post</th>\n",
       "      <td>108.888889</td>\n",
       "      <td>2.777778</td>\n",
       "      <td>8.777778</td>\n",
       "    </tr>\n",
       "    <tr>\n",
       "      <th>Quaker Oats</th>\n",
       "      <td>95.000000</td>\n",
       "      <td>1.337500</td>\n",
       "      <td>5.250000</td>\n",
       "    </tr>\n",
       "    <tr>\n",
       "      <th>Ralston Purina</th>\n",
       "      <td>115.000000</td>\n",
       "      <td>1.875000</td>\n",
       "      <td>6.125000</td>\n",
       "    </tr>\n",
       "  </tbody>\n",
       "</table>\n",
       "</div>"
      ],
      "text/plain": [
       "                               Calories     Fiber    Sugars\n",
       "Manufacturer                                               \n",
       "American Home Food Products  100.000000  0.000000  3.000000\n",
       "General Mills                111.363636  1.272727  7.954545\n",
       "Kellogg's                    108.695652  2.739130  7.565217\n",
       "Nabisco                       86.666667  4.000000  1.833333\n",
       "Post                         108.888889  2.777778  8.777778\n",
       "Quaker Oats                   95.000000  1.337500  5.250000\n",
       "Ralston Purina               115.000000  1.875000  6.125000"
      ]
     },
     "execution_count": 350,
     "metadata": {},
     "output_type": "execute_result"
    }
   ],
   "source": [
    "cere[['Calories','Fiber','Sugars']].mean(numeric_only=True)"
   ]
  },
  {
   "cell_type": "code",
   "execution_count": null,
   "id": "95aa945d-26d8-4240-b258-5140d7002685",
   "metadata": {},
   "outputs": [],
   "source": []
  },
  {
   "cell_type": "markdown",
   "id": "464fcfd2-0853-483e-9d78-79373d4cbf02",
   "metadata": {},
   "source": [
    "\n",
    "## 5- Find the maximum value in the Sugars column for each manufacturer."
   ]
  },
  {
   "cell_type": "code",
   "execution_count": 362,
   "id": "7dd851db-dec7-4b13-bf43-247184024aa0",
   "metadata": {},
   "outputs": [
    {
     "data": {
      "text/plain": [
       "Manufacturer\n",
       "American Home Food Products     3\n",
       "General Mills                  14\n",
       "Kellogg's                      15\n",
       "Nabisco                         6\n",
       "Post                           15\n",
       "Quaker Oats                    12\n",
       "Ralston Purina                 11\n",
       "Name: Sugars, dtype: int64"
      ]
     },
     "execution_count": 362,
     "metadata": {},
     "output_type": "execute_result"
    }
   ],
   "source": [
    "cere['Sugars'].max()"
   ]
  },
  {
   "cell_type": "code",
   "execution_count": 338,
   "id": "acc36d8b-798e-454e-8669-d41cce32bade",
   "metadata": {},
   "outputs": [
    {
     "data": {
      "text/html": [
       "<div>\n",
       "<style scoped>\n",
       "    .dataframe tbody tr th:only-of-type {\n",
       "        vertical-align: middle;\n",
       "    }\n",
       "\n",
       "    .dataframe tbody tr th {\n",
       "        vertical-align: top;\n",
       "    }\n",
       "\n",
       "    .dataframe thead th {\n",
       "        text-align: right;\n",
       "    }\n",
       "</style>\n",
       "<table border=\"1\" class=\"dataframe\">\n",
       "  <thead>\n",
       "    <tr style=\"text-align: right;\">\n",
       "      <th></th>\n",
       "      <th>Manufacturer</th>\n",
       "      <th>Calories</th>\n",
       "      <th>Fiber</th>\n",
       "      <th>Sugars</th>\n",
       "    </tr>\n",
       "  </thead>\n",
       "  <tbody>\n",
       "    <tr>\n",
       "      <th>0</th>\n",
       "      <td>Nabisco</td>\n",
       "      <td>70</td>\n",
       "      <td>10.0</td>\n",
       "      <td>6</td>\n",
       "    </tr>\n",
       "    <tr>\n",
       "      <th>1</th>\n",
       "      <td>Quaker Oats</td>\n",
       "      <td>120</td>\n",
       "      <td>2.0</td>\n",
       "      <td>8</td>\n",
       "    </tr>\n",
       "    <tr>\n",
       "      <th>2</th>\n",
       "      <td>Kellogg's</td>\n",
       "      <td>70</td>\n",
       "      <td>9.0</td>\n",
       "      <td>5</td>\n",
       "    </tr>\n",
       "    <tr>\n",
       "      <th>3</th>\n",
       "      <td>Kellogg's</td>\n",
       "      <td>50</td>\n",
       "      <td>14.0</td>\n",
       "      <td>0</td>\n",
       "    </tr>\n",
       "    <tr>\n",
       "      <th>4</th>\n",
       "      <td>Ralston Purina</td>\n",
       "      <td>110</td>\n",
       "      <td>1.0</td>\n",
       "      <td>8</td>\n",
       "    </tr>\n",
       "    <tr>\n",
       "      <th>...</th>\n",
       "      <td>...</td>\n",
       "      <td>...</td>\n",
       "      <td>...</td>\n",
       "      <td>...</td>\n",
       "    </tr>\n",
       "    <tr>\n",
       "      <th>72</th>\n",
       "      <td>General Mills</td>\n",
       "      <td>110</td>\n",
       "      <td>0.0</td>\n",
       "      <td>3</td>\n",
       "    </tr>\n",
       "    <tr>\n",
       "      <th>73</th>\n",
       "      <td>General Mills</td>\n",
       "      <td>110</td>\n",
       "      <td>0.0</td>\n",
       "      <td>12</td>\n",
       "    </tr>\n",
       "    <tr>\n",
       "      <th>74</th>\n",
       "      <td>Ralston Purina</td>\n",
       "      <td>100</td>\n",
       "      <td>3.0</td>\n",
       "      <td>3</td>\n",
       "    </tr>\n",
       "    <tr>\n",
       "      <th>75</th>\n",
       "      <td>General Mills</td>\n",
       "      <td>100</td>\n",
       "      <td>3.0</td>\n",
       "      <td>3</td>\n",
       "    </tr>\n",
       "    <tr>\n",
       "      <th>76</th>\n",
       "      <td>General Mills</td>\n",
       "      <td>110</td>\n",
       "      <td>1.0</td>\n",
       "      <td>8</td>\n",
       "    </tr>\n",
       "  </tbody>\n",
       "</table>\n",
       "<p>77 rows × 4 columns</p>\n",
       "</div>"
      ],
      "text/plain": [
       "      Manufacturer  Calories  Fiber  Sugars\n",
       "0          Nabisco        70   10.0       6\n",
       "1      Quaker Oats       120    2.0       8\n",
       "2        Kellogg's        70    9.0       5\n",
       "3        Kellogg's        50   14.0       0\n",
       "4   Ralston Purina       110    1.0       8\n",
       "..             ...       ...    ...     ...\n",
       "72   General Mills       110    0.0       3\n",
       "73   General Mills       110    0.0      12\n",
       "74  Ralston Purina       100    3.0       3\n",
       "75   General Mills       100    3.0       3\n",
       "76   General Mills       110    1.0       8\n",
       "\n",
       "[77 rows x 4 columns]"
      ]
     },
     "execution_count": 338,
     "metadata": {},
     "output_type": "execute_result"
    }
   ],
   "source": [
    "cereals[['Manufacturer','Calories','Fiber','Sugars']]"
   ]
  },
  {
   "cell_type": "markdown",
   "id": "2aa62396-5d92-42d2-a795-f8bc631d2018",
   "metadata": {},
   "source": [
    "## 6 - Find the minimum value in the Fiber column for each manufacturer."
   ]
  },
  {
   "cell_type": "code",
   "execution_count": 377,
   "id": "086740ad-d32f-4a40-9174-60fa49663ed7",
   "metadata": {},
   "outputs": [
    {
     "data": {
      "text/plain": [
       "Manufacturer\n",
       "American Home Food Products    0.0\n",
       "General Mills                  0.0\n",
       "Kellogg's                      0.0\n",
       "Nabisco                        1.0\n",
       "Post                           0.0\n",
       "Quaker Oats                    0.0\n",
       "Ralston Purina                 0.0\n",
       "Name: Fiber, dtype: float64"
      ]
     },
     "execution_count": 377,
     "metadata": {},
     "output_type": "execute_result"
    }
   ],
   "source": [
    "cere['Fiber'].min()"
   ]
  },
  {
   "cell_type": "markdown",
   "id": "714c82e1-6175-4029-839f-2ea6f75fb26b",
   "metadata": {},
   "source": [
    "## 7- Extract the cereal with the lowest amount of grams of sugar per manufacturer in a new DataFrame."
   ]
  },
  {
   "cell_type": "code",
   "execution_count": 385,
   "id": "7042bcd4-082f-401c-b53d-45e0458a232e",
   "metadata": {},
   "outputs": [],
   "source": [
    "sug=cere['Sugars'].min()"
   ]
  },
  {
   "cell_type": "code",
   "execution_count": 387,
   "id": "5c0aff2f-8739-464c-9cfe-2ceebb3489e5",
   "metadata": {},
   "outputs": [
    {
     "data": {
      "text/plain": [
       "Manufacturer\n",
       "American Home Food Products    3\n",
       "General Mills                  1\n",
       "Kellogg's                      0\n",
       "Nabisco                        0\n",
       "Post                           3\n",
       "Quaker Oats                   -1\n",
       "Ralston Purina                 2\n",
       "Name: Sugars, dtype: int64"
      ]
     },
     "execution_count": 387,
     "metadata": {},
     "output_type": "execute_result"
    }
   ],
   "source": [
    "sug"
   ]
  },
  {
   "cell_type": "code",
   "execution_count": 389,
   "id": "c208532b-3812-457f-8ea8-f291724e2f77",
   "metadata": {},
   "outputs": [],
   "source": [
    "sug.to_csv('/Users/sharoonkk/Desktop/DA/PANDAS/sugarmin.csv')"
   ]
  },
  {
   "cell_type": "code",
   "execution_count": 397,
   "id": "843f23be-b420-4754-bdb9-2632c30cf2db",
   "metadata": {},
   "outputs": [],
   "source": [
    "sg=pd.read_csv('/Users/sharoonkk/Desktop/DA/PANDAS/sugarmin.csv')"
   ]
  },
  {
   "cell_type": "code",
   "execution_count": 399,
   "id": "5a55e0ee-767b-4e8c-97b1-023cee634d1c",
   "metadata": {},
   "outputs": [
    {
     "data": {
      "text/plain": [
       "pandas.core.frame.DataFrame"
      ]
     },
     "execution_count": 399,
     "metadata": {},
     "output_type": "execute_result"
    }
   ],
   "source": [
    "type(sg)"
   ]
  },
  {
   "cell_type": "code",
   "execution_count": null,
   "id": "d4910eb0-694c-4496-b645-9df35d25e59d",
   "metadata": {},
   "outputs": [],
   "source": []
  }
 ],
 "metadata": {
  "kernelspec": {
   "display_name": "Python 3 (ipykernel)",
   "language": "python",
   "name": "python3"
  },
  "language_info": {
   "codemirror_mode": {
    "name": "ipython",
    "version": 3
   },
   "file_extension": ".py",
   "mimetype": "text/x-python",
   "name": "python",
   "nbconvert_exporter": "python",
   "pygments_lexer": "ipython3",
   "version": "3.12.4"
  }
 },
 "nbformat": 4,
 "nbformat_minor": 5
}
